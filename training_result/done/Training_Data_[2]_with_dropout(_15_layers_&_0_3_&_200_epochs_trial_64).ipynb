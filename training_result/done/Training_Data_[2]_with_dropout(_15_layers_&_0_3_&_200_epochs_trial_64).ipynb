{
 "cells": [
  {
   "cell_type": "code",
   "execution_count": null,
   "id": "847fa3fc",
   "metadata": {
    "id": "847fa3fc"
   },
   "outputs": [],
   "source": [
    "import tensorflow as tf\n",
    "from tensorflow.keras.optimizers import SGD\n",
    "from tensorflow.keras.layers import Dense, Flatten, Dropout\n",
    "from tensorflow.keras.models import Model\n",
    "from tensorflow.keras.preprocessing.image import ImageDataGenerator\n",
    "from glob import glob\n",
    "import matplotlib.pyplot as plt"
   ]
  },
  {
   "cell_type": "code",
   "execution_count": null,
   "id": "gbyESZYhSUmM",
   "metadata": {
    "colab": {
     "base_uri": "https://localhost:8080/"
    },
    "id": "gbyESZYhSUmM",
    "outputId": "642614e8-8f9f-4b80-eb49-27ef2e532d59"
   },
   "outputs": [],
   "source": [
    "print(\"GPU Available:\", tf.config.list_physical_devices('GPU'))\n",
    "print(\"TensorFlow Version:\", tf.__version__)\n",
    "print(\"GPU Device Name:\", tf.config.experimental.list_physical_devices('GPU'))"
   ]
  },
  {
   "cell_type": "code",
   "execution_count": null,
   "id": "f6424733",
   "metadata": {},
   "outputs": [],
   "source": [
    "from tensorflow.keras.mixed_precision import set_global_policy\n",
    "\n",
    "# Set the global policy to mixed precision\n",
    "set_global_policy('mixed_float16')"
   ]
  },
  {
   "cell_type": "code",
   "execution_count": null,
   "id": "U30NVPJ3SWPZ",
   "metadata": {
    "colab": {
     "base_uri": "https://localhost:8080/"
    },
    "id": "U30NVPJ3SWPZ",
    "outputId": "1ba1f2da-3707-44c2-f5b6-51a0c7c9caca"
   },
   "outputs": [],
   "source": [
    "# gpus = tf.config.experimental.list_physical_devices('GPU')\n",
    "# if gpus:\n",
    "#     try:\n",
    "#         for gpu in gpus:\n",
    "#             tf.config.experimental.set_memory_growth(gpu, True)\n",
    "#             tf.config.experimental.set_visible_devices(gpus[0], 'GPU')\n",
    "#     except RuntimeError as e:\n",
    "#         print(e)\n",
    "\n",
    "# print(\"Now using:\", tf.config.list_physical_devices('GPU'))"
   ]
  },
  {
   "cell_type": "code",
   "execution_count": null,
   "id": "HkdXs7LqSX6l",
   "metadata": {
    "id": "HkdXs7LqSX6l"
   },
   "outputs": [],
   "source": [
    "# from tensorflow.keras.mixed_precision import set_global_policy\n",
    "# set_global_policy('mixed_float16')"
   ]
  },
  {
   "cell_type": "code",
   "execution_count": null,
   "id": "d732a1e4",
   "metadata": {
    "id": "d732a1e4"
   },
   "outputs": [],
   "source": [
    "# OCT images of 1024 x 1024 pixels with 1 channel\n",
    "IMG_ROWS=224; IMG_COLS=224; IMG_CHANNELS=1\n",
    "IMAGE_SIZE = [IMG_ROWS, IMG_COLS]\n"
   ]
  },
  {
   "cell_type": "code",
   "execution_count": null,
   "id": "4885e65b",
   "metadata": {
    "id": "4885e65b"
   },
   "outputs": [],
   "source": [
    "WHICH_MODEL = 'DenseNet121'\n",
    "\n",
    "if WHICH_MODEL == 'VGG16':\n",
    "    from keras.applications.vgg16 import VGG16\n",
    "    from keras.applications.vgg16 import preprocess_input\n",
    "\n",
    "    # for RGB channel use [3], for black and white use one channel [1], and IMAGE_SIZE + [3] = [224, 224, 3]\n",
    "    orig_model = VGG16(input_shape=IMAGE_SIZE + [3], weights='imagenet', include_top=False)\n",
    "    LEARN_RATE = 0.0001\n",
    "    OCT_MODEL_NAME = 'VGG16_oct_minipigs.h5'\n",
    "\n",
    "elif WHICH_MODEL == 'VGG19':\n",
    "    from keras.applications.vgg19 import VGG19\n",
    "    from keras.applications.vgg19 import preprocess_input\n",
    "\n",
    "    # for RGB channel use [3], for black and white use one channel [1]\n",
    "    orig_model = VGG19(input_shape=IMAGE_SIZE + [3], weights='imagenet', include_top=False)\n",
    "    LEARN_RATE = 0.0001\n",
    "    OCT_MODEL_NAME = 'VGG19_oct_minipigs.h5'\n",
    "\n",
    "elif WHICH_MODEL == 'ResNet50':\n",
    "    from keras.applications.resnet50 import ResNet50\n",
    "    from keras.applications.resnet50 import preprocess_input\n",
    "\n",
    "    orig_model = ResNet50(input_shape=IMAGE_SIZE + [3], weights='imagenet', include_top=False)\n",
    "    LEARN_RATE = 0.001\n",
    "    OCT_MODEL_NAME = 'ResNet50_oct_minipigs.h5'\n",
    "\n",
    "elif WHICH_MODEL == 'InceptionV3':\n",
    "    from keras.applications.inception_v3 import InceptionV3\n",
    "    from keras.applications.inception_v3 import preprocess_input\n",
    "\n",
    "    orig_model = InceptionV3(input_shape=IMAGE_SIZE + [3], weights='imagenet', include_top=False)\n",
    "    LEARN_RATE = 0.0001\n",
    "    OCT_MODEL_NAME = 'InceptionV3_oct_minipigs.h5'\n",
    "\n",
    "elif WHICH_MODEL == 'DenseNet121':\n",
    "    from keras.applications.densenet import DenseNet121\n",
    "    from keras.applications.densenet import preprocess_input\n",
    "    LEARN_RATE = 0.005\n",
    "    orig_model = DenseNet121(input_shape=IMAGE_SIZE + [3], weights='imagenet', include_top=False)\n",
    "    OCT_MODEL_NAME = 'DenseNet121_oct_minipigs.h5'\n",
    "elif WHICH_MODEL == 'DenseNet169':\n",
    "    from keras.applications.densenet import DenseNet169\n",
    "    from keras.applications.densenet import preprocess_input"
   ]
  },
  {
   "cell_type": "code",
   "execution_count": null,
   "id": "178a7d3f",
   "metadata": {},
   "outputs": [],
   "source": [
    "print(\"Model:\", WHICH_MODEL, \"Learning Rate:\", LEARN_RATE, \"Model Name:\", OCT_MODEL_NAME)"
   ]
  },
  {
   "cell_type": "code",
   "execution_count": null,
   "id": "2da72cca",
   "metadata": {
    "id": "2da72cca"
   },
   "outputs": [],
   "source": [
    "BATCH_SIZE = 16\n",
    "\n",
    "EPOCHS = 100"
   ]
  },
  {
   "cell_type": "code",
   "execution_count": null,
   "id": "bdd9b82e",
   "metadata": {
    "id": "bdd9b82e"
   },
   "outputs": [],
   "source": [
    "# path to TRAINING dataset of the OCT images\n",
    "TRAIN_PATH = '../PigData_PP/training'\n",
    "\n",
    "# path to VALIDATE dataset of the OCT images\n",
    "VALID_PATH = '../PigData_PP/val'\n",
    "\n",
    "# path to TESTING dataset of the OCT images\n",
    "TEST_PATH = '../PigData_PP/test'\n",
    "\n",
    "DATASET = 'Minipigs'\n",
    "\n",
    "CLASS_MODE = 'categorical'   # binary, categorical\n",
    "\n",
    "NUMBER_OF_CLASSES = 5\n"
   ]
  },
  {
   "cell_type": "code",
   "execution_count": null,
   "id": "b6da0082",
   "metadata": {},
   "outputs": [],
   "source": [
    "from tensorflow.keras.optimizers import Adam"
   ]
  },
  {
   "cell_type": "code",
   "execution_count": null,
   "id": "6028d1fc",
   "metadata": {
    "id": "6028d1fc"
   },
   "outputs": [],
   "source": [
    "\n",
    "adam = Adam(learning_rate=LEARN_RATE)\n",
    "# adam = Adam(learning_rate=LEARN_RATE, decay=LEARN_RATE/EPOCHS)\n",
    "#adam = Adam(learning_rate=LEARN_RATE, beta_1=0.9, beta_2=0.999, epsilon=1e-07, amsgrad=False, name='Adam', decay=LEARN_RATE/EPOCHS)\n",
    "\n",
    "#sgd = SGD(learning_rate=LEARN_RATE)\n",
    "\n",
    "OPTIMISATION = adam  # SGD\n",
    "\n",
    "# no need to train the weights again\n",
    "for layer in orig_model.layers[:-15]:\n",
    "    layer.trainable = False"
   ]
  },
  {
   "cell_type": "code",
   "execution_count": null,
   "id": "815e2276",
   "metadata": {
    "id": "815e2276"
   },
   "outputs": [],
   "source": [
    "# to retrieve the number of classes\n",
    "folders = glob(TRAIN_PATH + '/*')"
   ]
  },
  {
   "cell_type": "code",
   "execution_count": null,
   "id": "0f635812",
   "metadata": {
    "id": "0f635812"
   },
   "outputs": [],
   "source": [
    "# more layers could be added to the model\n",
    "x = Flatten()(orig_model.output)\n",
    "x = Dropout(0.3)(x)\n",
    "\n",
    "x = Dense(10, activation='relu')(x)\n",
    "prediction = Dense(len(folders), activation='softmax')(x)\n",
    "\n",
    "# create a model object\n",
    "model = Model(inputs=orig_model.input, outputs=prediction)"
   ]
  },
  {
   "cell_type": "code",
   "execution_count": null,
   "id": "93898734",
   "metadata": {
    "colab": {
     "base_uri": "https://localhost:8080/",
     "height": 1000
    },
    "id": "93898734",
    "outputId": "a9f9cf90-3f04-4503-b534-e78fcfa2804e"
   },
   "outputs": [],
   "source": [
    "# view the structure of the model\n",
    "model.summary()"
   ]
  },
  {
   "cell_type": "code",
   "execution_count": null,
   "id": "dc2b1c88",
   "metadata": {
    "id": "dc2b1c88"
   },
   "outputs": [],
   "source": [
    "# tell the model what cost and optimisation method to use\n",
    "model.compile(\n",
    "    loss='categorical_crossentropy',\n",
    "    optimizer=OPTIMISATION,\n",
    "    metrics=['accuracy']\n",
    ")"
   ]
  },
  {
   "cell_type": "code",
   "execution_count": null,
   "id": "5b908596",
   "metadata": {
    "id": "5b908596"
   },
   "outputs": [],
   "source": [
    "train_datagen = ImageDataGenerator(\n",
    "    rescale=1./255, rotation_range=350, width_shift_range=0.1,\n",
    "    height_shift_range=0.1, shear_range=0.15, zoom_range=0.1,\n",
    "    channel_shift_range=10., horizontal_flip=True, fill_mode='constant'\n",
    ")"
   ]
  },
  {
   "cell_type": "code",
   "execution_count": null,
   "id": "bb4d2a57",
   "metadata": {
    "colab": {
     "base_uri": "https://localhost:8080/"
    },
    "id": "bb4d2a57",
    "outputId": "6554fb76-1a5b-40b6-e821-9fd9d8dff8ca"
   },
   "outputs": [],
   "source": [
    "training_set = train_datagen.flow_from_directory(\n",
    "    TRAIN_PATH,\n",
    "    target_size=(IMG_ROWS, IMG_COLS),\n",
    "    batch_size=BATCH_SIZE,\n",
    "#    seed=42,\n",
    "#    color_mode=COLOUR_MODE,\n",
    "    class_mode=CLASS_MODE\n",
    ")"
   ]
  },
  {
   "cell_type": "code",
   "execution_count": null,
   "id": "893ae025",
   "metadata": {},
   "outputs": [],
   "source": [
    "# Check the labels of the training set\n",
    "print(\"Labels shape:\", training_set[0][1].shape)\n",
    "print(\"Sample labels:\", training_set[0][1][:5])"
   ]
  },
  {
   "cell_type": "code",
   "execution_count": null,
   "id": "fe32472f",
   "metadata": {},
   "outputs": [],
   "source": [
    "# Display the first 5 images from the training set\n",
    "plt.figure(figsize=(12, 12))\n",
    "for i in range(5):\n",
    "    plt.subplot(1, 5, i + 1)\n",
    "    plt.imshow(training_set[0][0][i])\n",
    "    plt.title(np.argmax(training_set[0][1][i]))\n",
    "    plt.axis('off')\n",
    "plt.show()"
   ]
  },
  {
   "cell_type": "code",
   "execution_count": null,
   "id": "8f289ffb",
   "metadata": {
    "id": "8f289ffb"
   },
   "outputs": [],
   "source": [
    "valid_datagen = ImageDataGenerator(\n",
    "    rescale=1./255, rotation_range=350, width_shift_range=0.1,\n",
    "    height_shift_range=0.1, shear_range=0.15, zoom_range=0.1,\n",
    "    channel_shift_range=10., horizontal_flip=True, fill_mode='constant'\n",
    ")"
   ]
  },
  {
   "cell_type": "code",
   "execution_count": null,
   "id": "35b5b5e7",
   "metadata": {
    "colab": {
     "base_uri": "https://localhost:8080/"
    },
    "id": "35b5b5e7",
    "outputId": "dc044eee-5631-4ef0-a9f6-928939538b46"
   },
   "outputs": [],
   "source": [
    "valid_set = valid_datagen.flow_from_directory(\n",
    "    VALID_PATH,\n",
    "    target_size=(IMG_ROWS, IMG_COLS),\n",
    "    batch_size=BATCH_SIZE,\n",
    "#    seed=42,\n",
    "#    color_mode=COLOUR_MODE,\n",
    "    class_mode=CLASS_MODE\n",
    ")"
   ]
  },
  {
   "cell_type": "code",
   "execution_count": null,
   "id": "cc5c587f",
   "metadata": {},
   "outputs": [],
   "source": [
    "# Display the first 5 images from the validation set\n",
    "plt.figure(figsize=(12, 12))\n",
    "for i in range(5):\n",
    "    plt.subplot(1, 5, i + 1)\n",
    "    plt.imshow(valid_set[0][0][i])\n",
    "    plt.title(np.argmax(valid_set[0][1][i]))\n",
    "    plt.axis('off')\n",
    "plt.show()"
   ]
  },
  {
   "cell_type": "code",
   "execution_count": null,
   "id": "ff171025",
   "metadata": {
    "colab": {
     "base_uri": "https://localhost:8080/"
    },
    "id": "ff171025",
    "outputId": "2ef7bf7e-1a75-4455-b2b1-b628aca5f2be"
   },
   "outputs": [],
   "source": [
    "test_datagen = ImageDataGenerator(\n",
    "    rescale=1./255\n",
    ")\n",
    "\n",
    "test_set = test_datagen.flow_from_directory(\n",
    "    TEST_PATH,\n",
    "    target_size=(IMG_ROWS, IMG_COLS),\n",
    "    batch_size=BATCH_SIZE,\n",
    "#    seed=42,\n",
    "#    color_mode=COLOUR_MODE,\n",
    "    class_mode=CLASS_MODE\n",
    ")"
   ]
  },
  {
   "cell_type": "code",
   "execution_count": null,
   "id": "1bb32880",
   "metadata": {},
   "outputs": [],
   "source": [
    "# Display the first 5 images from the test set\n",
    "plt.figure(figsize=(12, 12))\n",
    "for i in range(5):\n",
    "    plt.subplot(1, 5, i + 1)\n",
    "    plt.imshow(test_set[0][0][i])\n",
    "    plt.title(np.argmax(test_set[0][1][i]))\n",
    "    plt.axis('off')\n",
    "plt.show()"
   ]
  },
  {
   "cell_type": "code",
   "execution_count": 187,
   "id": "c68411f0",
   "metadata": {},
   "outputs": [
    {
     "data": {
      "text/plain": [
       "(64, 224, 224, 3)"
      ]
     },
     "execution_count": 187,
     "metadata": {},
     "output_type": "execute_result"
    }
   ],
   "source": [
    "training_set[0][0].shape"
   ]
  },
  {
   "cell_type": "code",
   "execution_count": null,
   "id": "b8e76bb8",
   "metadata": {
    "colab": {
     "base_uri": "https://localhost:8080/"
    },
    "id": "b8e76bb8",
    "outputId": "48b60f77-baa3-4914-cc11-4d9cdfa29d4a"
   },
   "outputs": [],
   "source": [
    "# fit the model\n",
    "history = model.fit(\n",
    "    training_set,\n",
    "    validation_data=valid_set,\n",
    "    epochs=EPOCHS,\n",
    "    steps_per_epoch=len(training_set),\n",
    "#    validation_split=0.1\n",
    "    validation_steps=len(valid_set)\n",
    ")\n",
    "\n",
    "#time taken: 3 hours"
   ]
  },
  {
   "cell_type": "code",
   "execution_count": null,
   "id": "7cd5a76f",
   "metadata": {
    "colab": {
     "base_uri": "https://localhost:8080/",
     "height": 472
    },
    "id": "7cd5a76f",
    "outputId": "4d5a5897-d71d-4887-ddb6-fe9772057324"
   },
   "outputs": [],
   "source": [
    "# summarize history for accuracy\n",
    "plt.plot(history.history['accuracy'])\n",
    "plt.plot(history.history['val_accuracy'])\n",
    "acc_title = \"{} - Model Accuracy for the {} Dataset\".format(WHICH_MODEL, DATASET)\n",
    "plt.title(acc_title)\n",
    "plt.ylabel('Accuracy')\n",
    "plt.xlabel('Epochs')\n",
    "plt.grid(True)\n",
    "plt.legend(['Train Category Accuracy', 'Validation Category Accuracy'], loc='lower right')\n",
    "plt.show()"
   ]
  },
  {
   "cell_type": "code",
   "execution_count": null,
   "id": "88746944",
   "metadata": {
    "colab": {
     "base_uri": "https://localhost:8080/",
     "height": 472
    },
    "id": "88746944",
    "outputId": "07d6f382-0a99-4781-b850-d2cfbcadf2cd"
   },
   "outputs": [],
   "source": [
    "# summarize history for loss\n",
    "plt.plot(history.history['loss'])\n",
    "plt.plot(history.history['val_loss'])\n",
    "loss_title = \"{} - Loss Rate for the {} Dataset\".format(WHICH_MODEL, DATASET)\n",
    "plt.title(loss_title)\n",
    "plt.ylabel('Loss')\n",
    "plt.xlabel('Epochs')\n",
    "plt.grid(True)\n",
    "plt.legend(['Training Loss', 'Validation Loss'], loc='upper right')\n",
    "plt.show()"
   ]
  },
  {
   "cell_type": "code",
   "execution_count": null,
   "id": "4c1a7ccb",
   "metadata": {
    "colab": {
     "base_uri": "https://localhost:8080/"
    },
    "id": "4c1a7ccb",
    "outputId": "abaf3548-c478-41d6-cc80-a7a5abc0050e"
   },
   "outputs": [],
   "source": [
    "train_loss, train_acc = model.evaluate(training_set, steps=16)\n",
    "valid_loss, valid_acc = model.evaluate(valid_set, steps=16)\n",
    "\n",
    "print('\\nLearn Rate =', LEARN_RATE, ', Epochs =', EPOCHS, ', Training Folder =', TRAIN_PATH)\n",
    "\n",
    "print('Validation Folder =', VALID_PATH, ', Test Folder =', TEST_PATH)\n",
    "\n",
    "print('\\nTraining: %.3f, Validation: %.3f' % (train_acc, valid_acc))\n",
    "\n",
    "print('\\nThe processing of Convolutional Neural Networks with Transfer Learning for', WHICH_MODEL, 'succeed.\\n')"
   ]
  },
  {
   "cell_type": "code",
   "execution_count": null,
   "id": "280e6070",
   "metadata": {
    "colab": {
     "base_uri": "https://localhost:8080/"
    },
    "id": "280e6070",
    "outputId": "80d85b14-6fb6-4012-d39b-46b7cf01e78a"
   },
   "outputs": [],
   "source": [
    "results = model.evaluate(test_set, steps=16)\n",
    "print(\"\\nTest loss and accuracy are:\", results)"
   ]
  },
  {
   "cell_type": "code",
   "execution_count": null,
   "id": "a9ed6752",
   "metadata": {
    "colab": {
     "base_uri": "https://localhost:8080/"
    },
    "id": "a9ed6752",
    "outputId": "96622d9c-83e4-4938-c51d-f7d3d4cd4f11"
   },
   "outputs": [],
   "source": [
    "model.save('models/model_0.3dropout_-15layers_100epochs_202503003.h5')"
   ]
  },
  {
   "cell_type": "code",
   "execution_count": null,
   "id": "76cfd1e9",
   "metadata": {},
   "outputs": [],
   "source": [
    "#!pip install scikit-learn\n",
    "#!pip install seaborn"
   ]
  },
  {
   "cell_type": "code",
   "execution_count": null,
   "id": "1bd21a35",
   "metadata": {
    "colab": {
     "base_uri": "https://localhost:8080/",
     "height": 1000
    },
    "id": "1bd21a35",
    "outputId": "51650aa0-7320-421f-9722-5acb02e504a8"
   },
   "outputs": [],
   "source": [
    "cnn_predictions = model.predict(test_set)\n",
    "print('\\nPredictions:\\n')\n",
    "print(cnn_predictions)\n",
    "\n",
    "cnn_predictions_max = cnn_predictions.argmax(axis=1)\n",
    "print('\\nPredictions argmax(axis=1):\\n')\n",
    "print(cnn_predictions_max)\n",
    "\n",
    "print(test_set.labels)\n",
    "\n",
    "print('\\nTesting execution ended.\\n')\n"
   ]
  },
  {
   "cell_type": "code",
   "execution_count": null,
   "id": "42b680f4",
   "metadata": {
    "id": "42b680f4"
   },
   "outputs": [],
   "source": [
    "\n",
    "import numpy as np\n",
    "from sklearn.metrics import confusion_matrix\n",
    "import seaborn as sns\n",
    "from sklearn.metrics import multilabel_confusion_matrix"
   ]
  },
  {
   "cell_type": "code",
   "execution_count": null,
   "id": "fd94fc87",
   "metadata": {},
   "outputs": [],
   "source": [
    "\n",
    "\n",
    "label = ['TCFA', 'FCA', 'PIT', 'normal', 'IT']\n",
    "#Ypred = np.argmax(cnn_predictions, axis=1)\n",
    "#Ytrue = np.argmax(test_set.labels, axis=0)\n",
    "\n",
    "cm = confusion_matrix(test_set.labels, cnn_predictions_max)\n",
    "plt.figure(figsize=(12, 12))\n",
    "ax = sns.heatmap(cm, cmap=\"rocket_r\", fmt=\".01f\",annot_kws={'size':16}, annot=True, square=True, xticklabels=label, yticklabels=label)\n",
    "ax.set_ylabel('Actual', fontsize=20)\n",
    "ax.set_xlabel('Predicted', fontsize=20)\n",
    "plt.show()"
   ]
  }
 ],
 "metadata": {
  "accelerator": "GPU",
  "colab": {
   "gpuType": "A100",
   "machine_shape": "hm",
   "provenance": []
  },
  "kernelspec": {
   "display_name": "tfmac",
   "language": "python",
   "name": "python3"
  },
  "language_info": {
   "codemirror_mode": {
    "name": "ipython",
    "version": 3
   },
   "file_extension": ".py",
   "mimetype": "text/x-python",
   "name": "python",
   "nbconvert_exporter": "python",
   "pygments_lexer": "ipython3",
   "version": "3.12.9"
  }
 },
 "nbformat": 4,
 "nbformat_minor": 5
}
