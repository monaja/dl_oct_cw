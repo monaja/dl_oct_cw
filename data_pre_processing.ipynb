{
 "cells": [
  {
   "cell_type": "code",
   "execution_count": 3,
   "metadata": {},
   "outputs": [
    {
     "name": "stdout",
     "output_type": "stream",
     "text": [
      "Dataset split successfully!\n"
     ]
    }
   ],
   "source": [
    "import os\n",
    "import shutil\n",
    "from sklearn.model_selection import train_test_split\n",
    "\n",
    "# Define paths\n",
    "source_dir = \"dataset\"  # Change to your dataset directory\n",
    "output_dir = \"split_dataset_70_15_15\"  # Change to your desired output directory\n",
    "\n",
    "# Labels (assuming folders are named '1', '2', '3', '4', '5')\n",
    "labels = ['1', '2', '3', '4', '5']\n",
    "\n",
    "# Split ratios\n",
    "train_ratio = 0.8\n",
    "val_ratio = 0.1\n",
    "test_ratio = 0.1\n",
    "\n",
    "# Ensure output directories exist\n",
    "for split in [\"train\", \"val\", \"test\"]:\n",
    "    for label in labels:\n",
    "        os.makedirs(os.path.join(output_dir, split, label), exist_ok=True)\n",
    "\n",
    "# Process each label folder\n",
    "for label in labels:\n",
    "    label_path = os.path.join(source_dir, label)\n",
    "    files = os.listdir(label_path)\n",
    "    \n",
    "    # Split dataset\n",
    "    train_files, temp_files = train_test_split(files, test_size=(1 - train_ratio), random_state=42)\n",
    "    val_files, test_files = train_test_split(temp_files, test_size=(test_ratio / (test_ratio + val_ratio)), random_state=42)\n",
    "\n",
    "    # Function to copy files\n",
    "    def copy_files(file_list, target_folder):\n",
    "        for file in file_list:\n",
    "            src = os.path.join(label_path, file)\n",
    "            dest = os.path.join(output_dir, target_folder, label, file)\n",
    "            shutil.copy2(src, dest)\n",
    "\n",
    "    # Copy files to respective directories\n",
    "    copy_files(train_files, \"train\")\n",
    "    copy_files(val_files, \"val\")\n",
    "    copy_files(test_files, \"test\")\n",
    "\n",
    "print(\"Dataset split successfully!\")"
   ]
  }
 ],
 "metadata": {
  "kernelspec": {
   "display_name": "tfmac",
   "language": "python",
   "name": "python3"
  },
  "language_info": {
   "codemirror_mode": {
    "name": "ipython",
    "version": 3
   },
   "file_extension": ".py",
   "mimetype": "text/x-python",
   "name": "python",
   "nbconvert_exporter": "python",
   "pygments_lexer": "ipython3",
   "version": "3.12.9"
  }
 },
 "nbformat": 4,
 "nbformat_minor": 2
}
